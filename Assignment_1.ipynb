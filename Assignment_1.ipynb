{
 "cells": [
  {
   "cell_type": "code",
   "execution_count": 65,
   "id": "f5f6bb0b-2f75-46eb-ac20-a1dead16ce7a",
   "metadata": {},
   "outputs": [],
   "source": [
    "# Importing required libraries\n",
    "import pandas as pd\n",
    "import numpy as np"
   ]
  },
  {
   "cell_type": "code",
   "execution_count": null,
   "id": "f2ee9384-2d2b-432c-b8ab-29d9c6b1fe2d",
   "metadata": {},
   "outputs": [],
   "source": [
    "# A) Reading data from a CSV file \n",
    "data = pd.read_csv(\"D:\\\\ML Lab \\\\wine-clustering - wine-clustering.csv\")"
   ]
  },
  {
   "cell_type": "code",
   "execution_count": 69,
   "id": "7a633cb5-9400-44d3-8f33-392dfa26304b",
   "metadata": {},
   "outputs": [
    {
     "name": "stdout",
     "output_type": "stream",
     "text": [
      "Dataset Preview:\n",
      "   Alcohol  Malic_Acid   Ash  Ash_Alcanity  Magnesium  Total_Phenols  \\\n",
      "0    14.23        1.71  2.43          15.6        127           2.80   \n",
      "1    13.20        1.78  2.14          11.2        100           2.65   \n",
      "2    13.16        2.36  2.67          18.6        101           2.80   \n",
      "3    14.37        1.95  2.50          16.8        113           3.85   \n",
      "4    13.24        2.59  2.87          21.0        118           2.80   \n",
      "\n",
      "   Flavanoids  Nonflavanoid_Phenols  Proanthocyanins  Color_Intensity   Hue  \\\n",
      "0        3.06                  0.28             2.29             5.64  1.04   \n",
      "1        2.76                  0.26             1.28             4.38  1.05   \n",
      "2        3.24                  0.30             2.81             5.68  1.03   \n",
      "3        3.49                  0.24             2.18             7.80  0.86   \n",
      "4        2.69                  0.39             1.82             4.32  1.04   \n",
      "\n",
      "   OD280  Proline  \n",
      "0   3.92     1065  \n",
      "1   3.40     1050  \n",
      "2   3.17     1185  \n",
      "3   3.45     1480  \n",
      "4   2.93      735  \n"
     ]
    }
   ],
   "source": [
    "# Displaying the first few rows of the dataset\n",
    "print(\"Dataset Preview:\")\n",
    "print(data.head())"
   ]
  },
  {
   "cell_type": "code",
   "execution_count": 71,
   "id": "f95825bb-1b5c-4ee4-9af9-33bbfe371e45",
   "metadata": {},
   "outputs": [
    {
     "name": "stdout",
     "output_type": "stream",
     "text": [
      "Shape of the Data (Rows, Columns):\n",
      "(178, 13)\n"
     ]
    }
   ],
   "source": [
    "# B) Finding the shape of the data\n",
    "print(\"Shape of the Data (Rows, Columns):\")\n",
    "print(data.shape)"
   ]
  },
  {
   "cell_type": "code",
   "execution_count": 73,
   "id": "eec28e18-2501-4750-b52e-bd973336e51d",
   "metadata": {},
   "outputs": [
    {
     "name": "stdout",
     "output_type": "stream",
     "text": [
      "Missing Values in Each Column:\n",
      "Alcohol                 0\n",
      "Malic_Acid              0\n",
      "Ash                     0\n",
      "Ash_Alcanity            0\n",
      "Magnesium               0\n",
      "Total_Phenols           0\n",
      "Flavanoids              0\n",
      "Nonflavanoid_Phenols    0\n",
      "Proanthocyanins         0\n",
      "Color_Intensity         0\n",
      "Hue                     0\n",
      "OD280                   0\n",
      "Proline                 0\n",
      "dtype: int64\n"
     ]
    }
   ],
   "source": [
    "# C) Checking for missing values in the dataset\n",
    "print(\"Missing Values in Each Column:\")\n",
    "print(data.isnull().sum())"
   ]
  },
  {
   "cell_type": "code",
   "execution_count": 75,
   "id": "d11e1d5f-b72c-4767-9fd9-81f910258f33",
   "metadata": {},
   "outputs": [
    {
     "name": "stdout",
     "output_type": "stream",
     "text": [
      "Data Types of Each Column:\n",
      "Alcohol                 float64\n",
      "Malic_Acid              float64\n",
      "Ash                     float64\n",
      "Ash_Alcanity            float64\n",
      "Magnesium                 int64\n",
      "Total_Phenols           float64\n",
      "Flavanoids              float64\n",
      "Nonflavanoid_Phenols    float64\n",
      "Proanthocyanins         float64\n",
      "Color_Intensity         float64\n",
      "Hue                     float64\n",
      "OD280                   float64\n",
      "Proline                   int64\n",
      "dtype: object\n"
     ]
    }
   ],
   "source": [
    "# D) Displaying data types of each column\n",
    "print(\"Data Types of Each Column:\")\n",
    "print(data.dtypes)\n"
   ]
  },
  {
   "cell_type": "code",
   "execution_count": 77,
   "id": "21badbbe-a147-4d11-a67b-8242c91e3d52",
   "metadata": {},
   "outputs": [
    {
     "name": "stdout",
     "output_type": "stream",
     "text": [
      "Number of Zeros in Each Numeric Column:\n",
      "Alcohol                 0\n",
      "Malic_Acid              0\n",
      "Ash                     0\n",
      "Ash_Alcanity            0\n",
      "Magnesium               0\n",
      "Total_Phenols           0\n",
      "Flavanoids              0\n",
      "Nonflavanoid_Phenols    0\n",
      "Proanthocyanins         0\n",
      "Color_Intensity         0\n",
      "Hue                     0\n",
      "OD280                   0\n",
      "Proline                 0\n",
      "dtype: int64\n"
     ]
    }
   ],
   "source": [
    "# E) Finding the count of zeros in each numeric column\n",
    "numeric_columns = data.select_dtypes(include=[np.number])  \n",
    "zeros_count = (numeric_columns == 0).sum()\n",
    "\n",
    "print(\"Number of Zeros in Each Numeric Column:\")\n",
    "print(zeros_count)"
   ]
  },
  {
   "cell_type": "code",
   "execution_count": 79,
   "id": "e8bbd170-9b1e-4e64-bb79-2b93604c8a79",
   "metadata": {},
   "outputs": [
    {
     "name": "stdout",
     "output_type": "stream",
     "text": [
      "Selected Columns:\n",
      "   Alcohol   Ash\n",
      "0    14.23  2.43\n",
      "1    13.20  2.14\n",
      "2    13.16  2.67\n",
      "3    14.37  2.50\n",
      "4    13.24  2.87\n"
     ]
    }
   ],
   "source": [
    "# F) Indexing and selecting specific columns\n",
    "selected_columns = data[['Alcohol', 'Ash']]  \n",
    "print(\"Selected Columns:\")\n",
    "print(selected_columns.head())"
   ]
  },
  {
   "cell_type": "code",
   "execution_count": 81,
   "id": "b9fa4601-af1d-49d0-a0ef-8687c8ba4c1b",
   "metadata": {},
   "outputs": [
    {
     "name": "stdout",
     "output_type": "stream",
     "text": [
      "Data Sorted by 'Alcohol':\n",
      "     Alcohol  Malic_Acid   Ash  Ash_Alcanity  Magnesium  Total_Phenols  \\\n",
      "115    11.03        1.51  2.20          21.5         85           2.46   \n",
      "113    11.41        0.74  2.50          21.0         88           2.48   \n",
      "120    11.45        2.40  2.42          20.0         96           2.90   \n",
      "110    11.46        3.74  1.82          19.5        107           3.18   \n",
      "121    11.56        2.05  3.23          28.5        119           3.18   \n",
      "\n",
      "     Flavanoids  Nonflavanoid_Phenols  Proanthocyanins  Color_Intensity   Hue  \\\n",
      "115        2.17                  0.52             2.01             1.90  1.71   \n",
      "113        2.01                  0.42             1.44             3.08  1.10   \n",
      "120        2.79                  0.32             1.83             3.25  0.80   \n",
      "110        2.58                  0.24             3.58             2.90  0.75   \n",
      "121        5.08                  0.47             1.87             6.00  0.93   \n",
      "\n",
      "     OD280  Proline  \n",
      "115   2.87      407  \n",
      "113   2.31      434  \n",
      "120   3.39      625  \n",
      "110   2.81      562  \n",
      "121   3.69      465  \n"
     ]
    }
   ],
   "source": [
    "# Sorting data by a specific column\n",
    "sorted_data = data.sort_values(by='Alcohol')  # Replace 'Column1' with the column you want to sort by\n",
    "print(\"Data Sorted by 'Alcohol':\")\n",
    "print(sorted_data.head())"
   ]
  },
  {
   "cell_type": "code",
   "execution_count": 83,
   "id": "c6dca595-5142-4405-9533-f77f76e2b221",
   "metadata": {},
   "outputs": [
    {
     "name": "stdout",
     "output_type": "stream",
     "text": [
      "Statistical Description of Numeric Data:\n",
      "          Alcohol  Malic_Acid         Ash  Ash_Alcanity   Magnesium  \\\n",
      "count  178.000000  178.000000  178.000000    178.000000  178.000000   \n",
      "mean    13.000618    2.336348    2.366517     19.494944   99.741573   \n",
      "std      0.811827    1.117146    0.274344      3.339564   14.282484   \n",
      "min     11.030000    0.740000    1.360000     10.600000   70.000000   \n",
      "25%     12.362500    1.602500    2.210000     17.200000   88.000000   \n",
      "50%     13.050000    1.865000    2.360000     19.500000   98.000000   \n",
      "75%     13.677500    3.082500    2.557500     21.500000  107.000000   \n",
      "max     14.830000    5.800000    3.230000     30.000000  162.000000   \n",
      "\n",
      "       Total_Phenols  Flavanoids  Nonflavanoid_Phenols  Proanthocyanins  \\\n",
      "count     178.000000  178.000000            178.000000       178.000000   \n",
      "mean        2.295112    2.029270              0.361854         1.590899   \n",
      "std         0.625851    0.998859              0.124453         0.572359   \n",
      "min         0.980000    0.340000              0.130000         0.410000   \n",
      "25%         1.742500    1.205000              0.270000         1.250000   \n",
      "50%         2.355000    2.135000              0.340000         1.555000   \n",
      "75%         2.800000    2.875000              0.437500         1.950000   \n",
      "max         3.880000    5.080000              0.660000         3.580000   \n",
      "\n",
      "       Color_Intensity         Hue       OD280      Proline  \n",
      "count       178.000000  178.000000  178.000000   178.000000  \n",
      "mean          5.058090    0.957449    2.611685   746.893258  \n",
      "std           2.318286    0.228572    0.709990   314.907474  \n",
      "min           1.280000    0.480000    1.270000   278.000000  \n",
      "25%           3.220000    0.782500    1.937500   500.500000  \n",
      "50%           4.690000    0.965000    2.780000   673.500000  \n",
      "75%           6.200000    1.120000    3.170000   985.000000  \n",
      "max          13.000000    1.710000    4.000000  1680.000000  \n",
      "\n",
      "Data Types of Each Column:\n",
      "Alcohol                 float64\n",
      "Malic_Acid              float64\n",
      "Ash                     float64\n",
      "Ash_Alcanity            float64\n",
      "Magnesium                 int64\n",
      "Total_Phenols           float64\n",
      "Flavanoids              float64\n",
      "Nonflavanoid_Phenols    float64\n",
      "Proanthocyanins         float64\n",
      "Color_Intensity         float64\n",
      "Hue                     float64\n",
      "OD280                   float64\n",
      "Proline                   int64\n",
      "dtype: object\n"
     ]
    }
   ],
   "source": [
    "# G) Describing the data attributes\n",
    "print(\"Statistical Description of Numeric Data:\")\n",
    "print(data.describe())\n",
    "\n",
    "# Checking data types again for confirmation\n",
    "print(\"\\nData Types of Each Column:\")\n",
    "print(data.dtypes)"
   ]
  },
  {
   "cell_type": "code",
   "execution_count": 85,
   "id": "bcfb42f1-70f3-4fde-82db-e695d0f34818",
   "metadata": {},
   "outputs": [
    {
     "name": "stdout",
     "output_type": "stream",
     "text": [
      "Count of Unique Values in Each Column:\n",
      "Alcohol                 126\n",
      "Malic_Acid              133\n",
      "Ash                      79\n",
      "Ash_Alcanity             63\n",
      "Magnesium                53\n",
      "Total_Phenols            97\n",
      "Flavanoids              132\n",
      "Nonflavanoid_Phenols     39\n",
      "Proanthocyanins         101\n",
      "Color_Intensity         132\n",
      "Hue                      78\n",
      "OD280                   122\n",
      "Proline                 121\n",
      "dtype: int64\n",
      "\n",
      "Format of columns : \n",
      "Alcohol                 float64\n",
      "Malic_Acid              float64\n",
      "Ash                     float64\n",
      "Ash_Alcanity            float64\n",
      "Magnesium                 int64\n",
      "Total_Phenols           float64\n",
      "Flavanoids              float64\n",
      "Nonflavanoid_Phenols    float64\n",
      "Proanthocyanins         float64\n",
      "Color_Intensity         float64\n",
      "Hue                     float64\n",
      "OD280                   float64\n",
      "Proline                   int64\n",
      "dtype: object\n",
      "\n",
      "Data Types After Conversion:\n",
      "Alcohol                 float64\n",
      "Malic_Acid              float64\n",
      "Ash                     float64\n",
      "Ash_Alcanity            float64\n",
      "Magnesium                 int32\n",
      "Total_Phenols           float64\n",
      "Flavanoids              float64\n",
      "Nonflavanoid_Phenols    float64\n",
      "Proanthocyanins         float64\n",
      "Color_Intensity         float64\n",
      "Hue                     float64\n",
      "OD280                   float64\n",
      "Proline                   int64\n",
      "dtype: object\n"
     ]
    }
   ],
   "source": [
    "# H) Counting unique values in each column\n",
    "print(\"Count of Unique Values in Each Column:\")\n",
    "print(data.nunique())\n",
    "\n",
    "# Displaying the format (data types) of each column in the dataset\n",
    "print(\"\\nFormat of columns : \")\n",
    "print(data.dtypes)\n",
    "\n",
    "# Converting variable data type (example: from float to int)\n",
    "data['Magnesium'] = data['Magnesium'].astype(int)  # Replace 'NumericColumn' with an actual numeric column name\n",
    "print(\"\\nData Types After Conversion:\")\n",
    "print(data.dtypes)"
   ]
  },
  {
   "cell_type": "code",
   "execution_count": null,
   "id": "38e5db32-a730-4e87-92a3-6ce6e9653909",
   "metadata": {},
   "outputs": [],
   "source": []
  }
 ],
 "metadata": {
  "kernelspec": {
   "display_name": "Python 3 (ipykernel)",
   "language": "python",
   "name": "python3"
  },
  "language_info": {
   "codemirror_mode": {
    "name": "ipython",
    "version": 3
   },
   "file_extension": ".py",
   "mimetype": "text/x-python",
   "name": "python",
   "nbconvert_exporter": "python",
   "pygments_lexer": "ipython3",
   "version": "3.12.4"
  }
 },
 "nbformat": 4,
 "nbformat_minor": 5
}
